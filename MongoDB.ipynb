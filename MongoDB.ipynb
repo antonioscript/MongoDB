{
  "nbformat": 4,
  "nbformat_minor": 0,
  "metadata": {
    "colab": {
      "name": "MongoDB.ipynb",
      "provenance": [],
      "collapsed_sections": [],
      "authorship_tag": "ABX9TyP6hDFBFGZ2F708wIPWwDMY",
      "include_colab_link": true
    },
    "kernelspec": {
      "name": "python3",
      "display_name": "Python 3"
    },
    "language_info": {
      "name": "python"
    }
  },
  "cells": [
    {
      "cell_type": "markdown",
      "metadata": {
        "id": "view-in-github",
        "colab_type": "text"
      },
      "source": [
        "<a href=\"https://colab.research.google.com/github/antonioscript/MongoDB/blob/main/MongoDB.ipynb\" target=\"_parent\"><img src=\"https://colab.research.google.com/assets/colab-badge.svg\" alt=\"Open In Colab\"/></a>"
      ]
    },
    {
      "cell_type": "markdown",
      "source": [
        "#Comandos MongoDB"
      ],
      "metadata": {
        "id": "ki73zBoqHACZ"
      }
    },
    {
      "cell_type": "code",
      "source": [
        "import pymongo"
      ],
      "metadata": {
        "id": "pBHgnVi2afy-"
      },
      "execution_count": null,
      "outputs": []
    },
    {
      "cell_type": "code",
      "source": [
        "show dbs #Mostra todos os banco de dados\n",
        "\n",
        "use banco_exemplo #Seleciona aquele banco de dados\n",
        "\n",
        "show collections #Mostrar as collections (tabelas)\n",
        "\n",
        "db.createCollection(\"nome_da_collection\") #Cria uma collections\n",
        "\n",
        "#Para Inserrir um documento\n",
        "\n",
        "db.nome_collection.insert ({\n",
        "    \"nome\": \"Fulano\"\n",
        "    \"Senha\": 123\n",
        "})\n",
        "\n",
        "#Para Inserir vários itens\n",
        "db.item.insertMany([\n",
        "{\n",
        "    \"name\":\"João\",\n",
        "    \"price\": 32\n",
        "},\n",
        "{\n",
        "    \"name\":\"Mateus\",\n",
        "    \"price\": 14\n",
        "},\n",
        "{\n",
        "    \"name\":\"Tiago\",\n",
        "    \"price\": 90\n",
        "}\n",
        "])\n",
        "\n",
        "#Para Visualizar uma collection\n",
        "\n",
        "db.nome_collection.find()\n",
        "\n",
        "\n",
        "#Para visualizar apenas alguns itens\n",
        "db.nome_collection.find().limit(1)\n",
        "\n",
        "#Localizando um item específico\n",
        "db.nome_collection.find({name: \"João\"})\n",
        "\n",
        "#Retornar a quantidade de registro\n",
        "db.nome_collection.find().count()\n",
        "\n",
        "#Remover um registro\n",
        "db.nome_collection.remove({name = (\"Tiago\")})\n",
        "\n",
        "#Atualizar um regristro\n",
        "db.nome_collection.update (\n",
        "    {name}\n",
        ")"
      ],
      "metadata": {
        "id": "bpy78NH3HDCk"
      },
      "execution_count": null,
      "outputs": []
    }
  ]
}